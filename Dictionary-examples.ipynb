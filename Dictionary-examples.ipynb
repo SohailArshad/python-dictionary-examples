{
 "cells": [
  {
   "cell_type": "markdown",
   "metadata": {},
   "source": [
    "# Dictionary Practice Examples"
   ]
  },
  {
   "cell_type": "code",
   "execution_count": 20,
   "metadata": {},
   "outputs": [
    {
     "name": "stdout",
     "output_type": "stream",
     "text": [
      "Enter key:Name\n",
      "Enter Value:Ishra Hussain\n",
      "{'Name': 'Ishra Hussain'}\n"
     ]
    }
   ],
   "source": [
    "#Task1 Python Program to add a key-value pair to the dictionary\n",
    "k=input(\"Enter key:\")\n",
    "v=input(\"Enter Value:\")\n",
    "d={}\n",
    "d[k]=v\n",
    "print(d)"
   ]
  },
  {
   "cell_type": "code",
   "execution_count": 3,
   "metadata": {},
   "outputs": [
    {
     "name": "stdout",
     "output_type": "stream",
     "text": [
      "{'ID': 1, 'NAME': 'ISHRA HUSSAIN', 'COURSE': 'AI'}\n"
     ]
    }
   ],
   "source": [
    "#Task 2 Python program to concatenate two dictionaries into one\n",
    "d1={\"ID\":1}\n",
    "d2={\"NAME\":\"ISHRA HUSSAIN\", \"COURSE\":\"AI\"}\n",
    "d1.update(d2)\n",
    "print(d1)"
   ]
  },
  {
   "cell_type": "code",
   "execution_count": 14,
   "metadata": {},
   "outputs": [
    {
     "name": "stdout",
     "output_type": "stream",
     "text": [
      "Enter key to search:NAME\n",
      "Key is present and the value of key is:  ISHRA HUSSAIN\n"
     ]
    }
   ],
   "source": [
    "#Task 3 Python program to check if given key exists in a dictionary or not\n",
    "d={'ID': 1, 'NAME': 'ISHRA HUSSAIN', 'COURSE': 'AI'}\n",
    "k=input(\"Enter key to search:\")\n",
    "if k in d.keys():\n",
    "    print(\"Key is present and the value of key is: \", d[k])\n",
    "else:\n",
    "    print(\"Key does not exist\")"
   ]
  },
  {
   "cell_type": "code",
   "execution_count": 19,
   "metadata": {},
   "outputs": [
    {
     "name": "stdout",
     "output_type": "stream",
     "text": [
      "Enter a number: 9\n",
      "{1: 1, 2: 4, 3: 9, 4: 16, 5: 25, 6: 36, 7: 49, 8: 64, 9: 81}\n"
     ]
    }
   ],
   "source": [
    "#Task 4 Generate a dictionary that contains numbers (between 1 and n) in the form (x:x*x)\n",
    "n=input(\"Enter a number: \")\n",
    "n=int(n)\n",
    "d={}\n",
    "for i in range(1,n+1):\n",
    "    d[i]=i*i\n",
    "print(d)"
   ]
  },
  {
   "cell_type": "code",
   "execution_count": 22,
   "metadata": {},
   "outputs": [
    {
     "name": "stdout",
     "output_type": "stream",
     "text": [
      "Total sum of values is: 285\n"
     ]
    }
   ],
   "source": [
    "#Task 5 Sum all the terms in a dictionary\n",
    "total=0\n",
    "d={1: 1, 2: 4, 3: 9, 4: 16, 5: 25, 6: 36, 7: 49, 8: 64, 9: 81}\n",
    "for i in range(1,len(d)+1):\n",
    "    total=total+d[i]\n",
    "print(\"Total sum of values is:\", total)"
   ]
  },
  {
   "cell_type": "code",
   "execution_count": 25,
   "metadata": {},
   "outputs": [
    {
     "name": "stdout",
     "output_type": "stream",
     "text": [
      "Total Multiplication of values is: 131681894400\n"
     ]
    }
   ],
   "source": [
    "#Task 6 Multiply all the terms in a dictionary\n",
    "total=1\n",
    "d={1: 1, 2: 4, 3: 9, 4: 16, 5: 25, 6: 36, 7: 49, 8: 64, 9: 81}\n",
    "for i in range(1,len(d)+1):\n",
    "    total=total*d[i]\n",
    "print(\"Total Multiplication of values is:\", total)"
   ]
  },
  {
   "cell_type": "code",
   "execution_count": 29,
   "metadata": {},
   "outputs": [
    {
     "name": "stdout",
     "output_type": "stream",
     "text": [
      "Enter key to remove:ID\n",
      "{'NAME': 'ISHRA HUSSAIN', 'COURSE': 'AI'}\n"
     ]
    }
   ],
   "source": [
    "#Task 7 remove the given key from the dictionary\n",
    "d={'ID': 1, 'NAME': 'ISHRA HUSSAIN', 'COURSE': 'AI'}\n",
    "k=input(\"Enter key to remove:\")\n",
    "if k in d.keys():\n",
    "    d.pop(k)\n",
    "else:\n",
    "    print(\"Key does not exist\")\n",
    "print(d)"
   ]
  },
  {
   "cell_type": "code",
   "execution_count": 32,
   "metadata": {},
   "outputs": [
    {
     "name": "stdout",
     "output_type": "stream",
     "text": [
      "{'id': 1, 'name': 'Ishra', 'course': 'AI', 'city': 'Islamabad'}\n"
     ]
    }
   ],
   "source": [
    "#Task 8 map two lists into a dictionary\n",
    "l1=[\"id\", \"name\", \"course\", \"city\"]\n",
    "l2=[1,\"Ishra\", \"AI\", \"Islamabad\"]\n",
    "d={}\n",
    "for i in range(0, len(l1)):\n",
    "    d[l1[i]]=l2[i]\n",
    "print(d)"
   ]
  },
  {
   "cell_type": "code",
   "execution_count": 2,
   "metadata": {},
   "outputs": [
    {
     "name": "stdout",
     "output_type": "stream",
     "text": [
      "Enter key 1:ID\n",
      "Enter  value 1:1\n",
      "Enter key 2:NAME\n",
      "Enter  value 2:ISHRA HUSSAIN\n",
      "Enter key 3:COURSE\n",
      "Enter  value 3:AI\n",
      "{'ID': '1', 'NAME': 'ISHRA HUSSAIN', 'COURSE': 'AI'}\n"
     ]
    }
   ],
   "source": [
    "#Task 8 map two lists into a dictionary\n",
    "l1=[]\n",
    "l2=[]\n",
    "for i in range(1,4):\n",
    "    l1.append(input(\"Enter key \" + str(i) + \":\"))\n",
    "    l2.append(input(\"Enter  value \" + str(i)+ \":\"))\n",
    "d={}\n",
    "for i in range(0, len(l1)):\n",
    "    d[l1[i]]=l2[i]\n",
    "print(d)"
   ]
  },
  {
   "cell_type": "code",
   "execution_count": 17,
   "metadata": {},
   "outputs": [
    {
     "name": "stdout",
     "output_type": "stream",
     "text": [
      "Enter your string: hello world hello ai hello python hello ai\n",
      "{'hello': 4, 'world': 1, 'ai': 2, 'python': 1}\n"
     ]
    }
   ],
   "source": [
    "#Task 9 count the frequency of words appearing in a string using a dictionary\n",
    "s=input(\"Enter your string: \")\n",
    "s=s.split()\n",
    "d={}\n",
    "for i in range(0,len(s)):\n",
    "    k=s[i]\n",
    "    if k in d.keys():\n",
    "         d[s[i]]=d[s[i]] + 1\n",
    "    else:\n",
    "        d[s[i]]=1\n",
    "print(d)"
   ]
  },
  {
   "cell_type": "code",
   "execution_count": 30,
   "metadata": {},
   "outputs": [
    {
     "name": "stdout",
     "output_type": "stream",
     "text": [
      "Enter your string: hello world python is the best programming language\n"
     ]
    },
    {
     "data": {
      "text/plain": [
       "{'h': 'hello',\n",
       " 'w': 'world',\n",
       " 'p': 'python, programming',\n",
       " 'i': 'is',\n",
       " 't': 'the',\n",
       " 'b': 'best',\n",
       " 'l': 'language'}"
      ]
     },
     "execution_count": 30,
     "metadata": {},
     "output_type": "execute_result"
    }
   ],
   "source": [
    "#Task 10 Create a dictionary with key a first character and value as words starting with that character\n",
    "s=input(\"Enter your string: \")\n",
    "d={}\n",
    "s=s.split()\n",
    "for i in range(0,len(s)):\n",
    "    v=s[i]\n",
    "    if v[0] in d.keys():\n",
    "        d[v[0]]=d[v[0]] + \", \" + s[i]\n",
    "    else:\n",
    "        d[v[0]]=s[i]\n",
    "d"
   ]
  }
 ],
 "metadata": {
  "kernelspec": {
   "display_name": "Python 3",
   "language": "python",
   "name": "python3"
  },
  "language_info": {
   "codemirror_mode": {
    "name": "ipython",
    "version": 3
   },
   "file_extension": ".py",
   "mimetype": "text/x-python",
   "name": "python",
   "nbconvert_exporter": "python",
   "pygments_lexer": "ipython3",
   "version": "3.7.3"
  }
 },
 "nbformat": 4,
 "nbformat_minor": 2
}
